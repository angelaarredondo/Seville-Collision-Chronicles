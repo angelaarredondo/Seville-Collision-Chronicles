{
 "cells": [
  {
   "cell_type": "code",
   "execution_count": 1,
   "id": "625b896b",
   "metadata": {},
   "outputs": [],
   "source": [
    "import pandas as pd\n",
    "import numpy as np\n",
    "import matplotlib.pyplot as plt\n",
    "from scipy import stats"
   ]
  },
  {
   "cell_type": "code",
   "execution_count": 2,
   "id": "31d6687c",
   "metadata": {
    "scrolled": true
   },
   "outputs": [
    {
     "data": {
      "text/html": [
       "<div>\n",
       "<style scoped>\n",
       "    .dataframe tbody tr th:only-of-type {\n",
       "        vertical-align: middle;\n",
       "    }\n",
       "\n",
       "    .dataframe tbody tr th {\n",
       "        vertical-align: top;\n",
       "    }\n",
       "\n",
       "    .dataframe thead th {\n",
       "        text-align: right;\n",
       "    }\n",
       "</style>\n",
       "<table border=\"1\" class=\"dataframe\">\n",
       "  <thead>\n",
       "    <tr style=\"text-align: right;\">\n",
       "      <th></th>\n",
       "      <th>Timestamp</th>\n",
       "      <th>Gender</th>\n",
       "      <th>Age Range</th>\n",
       "      <th>Regular Driver</th>\n",
       "      <th>Driving License Length</th>\n",
       "      <th>Weekly Driving Frequency</th>\n",
       "      <th>Long Distance Driving</th>\n",
       "      <th>Stop in Long Distance Trips</th>\n",
       "      <th>Involved in Traffic Accident?</th>\n",
       "      <th>Date of the accident</th>\n",
       "      <th>...</th>\n",
       "      <th>Human factor</th>\n",
       "      <th>Type of vehicle</th>\n",
       "      <th>Vehicle brand</th>\n",
       "      <th>Vehicle model</th>\n",
       "      <th>Year of Registration</th>\n",
       "      <th>Level of protection of the vehicle</th>\n",
       "      <th>Continuous time driving</th>\n",
       "      <th>Difficulty driving post pandemic</th>\n",
       "      <th>Injured people</th>\n",
       "      <th>Displacement (cc)</th>\n",
       "    </tr>\n",
       "  </thead>\n",
       "  <tbody>\n",
       "    <tr>\n",
       "      <th>0</th>\n",
       "      <td>1</td>\n",
       "      <td>Woman</td>\n",
       "      <td>18 - 24</td>\n",
       "      <td>Yes</td>\n",
       "      <td>5 to 10 years</td>\n",
       "      <td>Every day of the week</td>\n",
       "      <td>Once a month</td>\n",
       "      <td>Every 2 hours</td>\n",
       "      <td>Yes</td>\n",
       "      <td>2019-12-01 00:00:00</td>\n",
       "      <td>...</td>\n",
       "      <td>NaN</td>\n",
       "      <td>Car</td>\n",
       "      <td>Nissan</td>\n",
       "      <td>Nissan micra</td>\n",
       "      <td>2008.0</td>\n",
       "      <td>8.0</td>\n",
       "      <td>Less than 30 minutes</td>\n",
       "      <td>Yes</td>\n",
       "      <td>No</td>\n",
       "      <td>1000.0</td>\n",
       "    </tr>\n",
       "    <tr>\n",
       "      <th>1</th>\n",
       "      <td>2</td>\n",
       "      <td>Woman</td>\n",
       "      <td>18 - 24</td>\n",
       "      <td>No</td>\n",
       "      <td>2 to 5 years</td>\n",
       "      <td>No day of the week</td>\n",
       "      <td>I do not make long trips</td>\n",
       "      <td>I do not make long journeys</td>\n",
       "      <td>Yes</td>\n",
       "      <td>2019-06-01 00:00:00</td>\n",
       "      <td>...</td>\n",
       "      <td>Distraction</td>\n",
       "      <td>Car</td>\n",
       "      <td>Mercedes</td>\n",
       "      <td>Mercedes A180</td>\n",
       "      <td>2008.0</td>\n",
       "      <td>10.0</td>\n",
       "      <td>Less than 30 minutes</td>\n",
       "      <td>Yes</td>\n",
       "      <td>No</td>\n",
       "      <td>1991.0</td>\n",
       "    </tr>\n",
       "    <tr>\n",
       "      <th>2</th>\n",
       "      <td>3</td>\n",
       "      <td>Woman</td>\n",
       "      <td>18 - 24</td>\n",
       "      <td>No</td>\n",
       "      <td>Less than 2 years</td>\n",
       "      <td>Once a week</td>\n",
       "      <td>I do not make long trips</td>\n",
       "      <td>I do not make long journeys</td>\n",
       "      <td>Yes</td>\n",
       "      <td>2020-06-01 00:00:00</td>\n",
       "      <td>...</td>\n",
       "      <td>Speeding</td>\n",
       "      <td>Car</td>\n",
       "      <td>Renault</td>\n",
       "      <td>Renault Clio</td>\n",
       "      <td>2013.0</td>\n",
       "      <td>10.0</td>\n",
       "      <td>Less than 30 minutes</td>\n",
       "      <td>Yes</td>\n",
       "      <td>No</td>\n",
       "      <td>1461.0</td>\n",
       "    </tr>\n",
       "    <tr>\n",
       "      <th>3</th>\n",
       "      <td>4</td>\n",
       "      <td>Man</td>\n",
       "      <td>More than 54</td>\n",
       "      <td>Yes</td>\n",
       "      <td>More than 20 years</td>\n",
       "      <td>Every day of the week</td>\n",
       "      <td>Once every 2-3 months</td>\n",
       "      <td>After more than 2 hours</td>\n",
       "      <td>Yes</td>\n",
       "      <td>1975-03-01 00:00:00</td>\n",
       "      <td>...</td>\n",
       "      <td>Others</td>\n",
       "      <td>Car</td>\n",
       "      <td>BMW</td>\n",
       "      <td>BMW X3</td>\n",
       "      <td>2005.0</td>\n",
       "      <td>10.0</td>\n",
       "      <td>Less than 30 minutes</td>\n",
       "      <td>No</td>\n",
       "      <td>No</td>\n",
       "      <td>1991.0</td>\n",
       "    </tr>\n",
       "    <tr>\n",
       "      <th>4</th>\n",
       "      <td>5</td>\n",
       "      <td>Woman</td>\n",
       "      <td>18 - 24</td>\n",
       "      <td>Yes</td>\n",
       "      <td>5 to 10 years</td>\n",
       "      <td>Between 3 and 5 days a week</td>\n",
       "      <td>Once a month</td>\n",
       "      <td>After more than 2 hours</td>\n",
       "      <td>Yes</td>\n",
       "      <td>2018-05-01 00:00:00</td>\n",
       "      <td>...</td>\n",
       "      <td>NaN</td>\n",
       "      <td>Car</td>\n",
       "      <td>Zip</td>\n",
       "      <td>Zip</td>\n",
       "      <td>2014.0</td>\n",
       "      <td>1.0</td>\n",
       "      <td>Less than 30 minutes</td>\n",
       "      <td>Yes</td>\n",
       "      <td>Yes</td>\n",
       "      <td>NaN</td>\n",
       "    </tr>\n",
       "  </tbody>\n",
       "</table>\n",
       "<p>5 rows × 26 columns</p>\n",
       "</div>"
      ],
      "text/plain": [
       "   Timestamp Gender     Age Range Regular Driver Driving License Length  \\\n",
       "0          1  Woman       18 - 24            Yes          5 to 10 years   \n",
       "1          2  Woman       18 - 24             No           2 to 5 years   \n",
       "2          3  Woman       18 - 24             No      Less than 2 years   \n",
       "3          4    Man  More than 54            Yes     More than 20 years   \n",
       "4          5  Woman       18 - 24            Yes          5 to 10 years   \n",
       "\n",
       "      Weekly Driving Frequency     Long Distance Driving  \\\n",
       "0        Every day of the week              Once a month   \n",
       "1           No day of the week  I do not make long trips   \n",
       "2                  Once a week  I do not make long trips   \n",
       "3        Every day of the week     Once every 2-3 months   \n",
       "4  Between 3 and 5 days a week              Once a month   \n",
       "\n",
       "   Stop in Long Distance Trips Involved in Traffic Accident?  \\\n",
       "0                Every 2 hours                           Yes   \n",
       "1  I do not make long journeys                           Yes   \n",
       "2  I do not make long journeys                           Yes   \n",
       "3      After more than 2 hours                           Yes   \n",
       "4      After more than 2 hours                           Yes   \n",
       "\n",
       "  Date of the accident  ... Human factor  Type of vehicle  Vehicle brand  \\\n",
       "0  2019-12-01 00:00:00  ...          NaN              Car         Nissan   \n",
       "1  2019-06-01 00:00:00  ...  Distraction              Car       Mercedes   \n",
       "2  2020-06-01 00:00:00  ...     Speeding              Car        Renault   \n",
       "3  1975-03-01 00:00:00  ...       Others              Car            BMW   \n",
       "4  2018-05-01 00:00:00  ...          NaN              Car            Zip   \n",
       "\n",
       "   Vehicle model Year of Registration Level of protection of the vehicle  \\\n",
       "0   Nissan micra               2008.0                                8.0   \n",
       "1  Mercedes A180               2008.0                               10.0   \n",
       "2   Renault Clio               2013.0                               10.0   \n",
       "3         BMW X3               2005.0                               10.0   \n",
       "4            Zip               2014.0                                1.0   \n",
       "\n",
       "  Continuous time driving Difficulty driving post pandemic Injured people  \\\n",
       "0    Less than 30 minutes                              Yes             No   \n",
       "1    Less than 30 minutes                              Yes             No   \n",
       "2    Less than 30 minutes                              Yes             No   \n",
       "3    Less than 30 minutes                               No             No   \n",
       "4    Less than 30 minutes                              Yes            Yes   \n",
       "\n",
       "  Displacement (cc)  \n",
       "0            1000.0  \n",
       "1            1991.0  \n",
       "2            1461.0  \n",
       "3            1991.0  \n",
       "4               NaN  \n",
       "\n",
       "[5 rows x 26 columns]"
      ]
     },
     "execution_count": 2,
     "metadata": {},
     "output_type": "execute_result"
    }
   ],
   "source": [
    "accidents = pd.read_excel(\"Accidents_csv.xlsx\")\n",
    "accidents.head()"
   ]
  },
  {
   "cell_type": "markdown",
   "id": "d0854e27",
   "metadata": {},
   "source": [
    "### Lets do some probability and calculations"
   ]
  },
  {
   "cell_type": "code",
   "execution_count": 3,
   "id": "7606e5b2",
   "metadata": {},
   "outputs": [],
   "source": [
    "pr = dict()"
   ]
  },
  {
   "cell_type": "code",
   "execution_count": 4,
   "id": "0af55f5b",
   "metadata": {},
   "outputs": [
    {
     "data": {
      "text/plain": [
       "103"
      ]
     },
     "execution_count": 4,
     "metadata": {},
     "output_type": "execute_result"
    }
   ],
   "source": [
    "# Count of gender\n",
    "accidents[\"Gender\"].count()"
   ]
  },
  {
   "cell_type": "code",
   "execution_count": 5,
   "id": "82582eb5",
   "metadata": {},
   "outputs": [
    {
     "data": {
      "text/plain": [
       "48"
      ]
     },
     "execution_count": 5,
     "metadata": {},
     "output_type": "execute_result"
    }
   ],
   "source": [
    "# From all my sample, how many are men\n",
    "accidents[accidents['Gender'] == 'Man'][\"Gender\"].count()"
   ]
  },
  {
   "cell_type": "code",
   "execution_count": 6,
   "id": "cf5c9cb9",
   "metadata": {},
   "outputs": [
    {
     "data": {
      "text/plain": [
       "32"
      ]
     },
     "execution_count": 6,
     "metadata": {},
     "output_type": "execute_result"
    }
   ],
   "source": [
    "# How many are men AND involved in a traffic accident, directly or indirectly?\n",
    "accidents[(accidents['Gender'] == 'Man') & (accidents['Involved in Traffic Accident?'] == 'Yes')]['Gender'].count() "
   ]
  },
  {
   "cell_type": "code",
   "execution_count": 7,
   "id": "bfb41134",
   "metadata": {},
   "outputs": [
    {
     "name": "stdout",
     "output_type": "stream",
     "text": [
      "So, from all the men we have (48), 32 were involved directly or indirectly on a traffic accident, which is quite a high number\n"
     ]
    }
   ],
   "source": [
    "print('So, from all the men we have (48), 32 were involved directly or indirectly on a traffic accident, which is quite a high number')"
   ]
  },
  {
   "cell_type": "code",
   "execution_count": 8,
   "id": "10533f19",
   "metadata": {},
   "outputs": [
    {
     "data": {
      "text/plain": [
       "0.6666666666666666"
      ]
     },
     "execution_count": 8,
     "metadata": {},
     "output_type": "execute_result"
    }
   ],
   "source": [
    "# To compute the proportion of men involved in an accident, we divide the number of men involved in an accident over the total men of my sample\n",
    "men_accident = (accidents[(accidents['Gender'] == 'Man') & (accidents['Involved in Traffic Accident?'] == 'Yes')]['Gender'].count())/(accidents[accidents['Gender'] == 'Man'][\"Gender\"].count())\n",
    "men_accident"
   ]
  },
  {
   "cell_type": "code",
   "execution_count": 9,
   "id": "0df12c09",
   "metadata": {},
   "outputs": [
    {
     "name": "stdout",
     "output_type": "stream",
     "text": [
      "The probability, according to my sample available, of being a man and having a traffic accident is 0,66, which is quite a high number. Lets check for women\n"
     ]
    }
   ],
   "source": [
    "print('The probability, according to my sample available, of being a man and having a traffic accident is 0,66, which is quite a high number. Lets check for women')"
   ]
  },
  {
   "cell_type": "code",
   "execution_count": 10,
   "id": "be9c3418",
   "metadata": {},
   "outputs": [
    {
     "name": "stdout",
     "output_type": "stream",
     "text": [
      "55\n",
      "0.7454545454545455\n"
     ]
    }
   ],
   "source": [
    "# Same process with women. Number of women involved in a traffic accident over the total women of my sample\n",
    "women = (accidents[accidents['Gender'] == 'Woman'][\"Gender\"].count())\n",
    "women_accident = (accidents[(accidents['Gender'] == 'Woman') & (accidents['Involved in Traffic Accident?'] == 'Yes')]['Gender'].count())/(accidents[accidents['Gender'] == 'Woman'][\"Gender\"].count())\n",
    "print(women)\n",
    "print(women_accident)"
   ]
  },
  {
   "cell_type": "code",
   "execution_count": 11,
   "id": "cc84a872",
   "metadata": {},
   "outputs": [
    {
     "name": "stdout",
     "output_type": "stream",
     "text": [
      "Cool result! It shows that, from my sample, almost a 75% of women were directly or indirectly involved in a traffic accident\n"
     ]
    }
   ],
   "source": [
    "print('Cool result! It shows that, from my sample, almost a 75% of women were directly or indirectly involved in a traffic accident')"
   ]
  },
  {
   "cell_type": "code",
   "execution_count": 12,
   "id": "850e622e",
   "metadata": {},
   "outputs": [
    {
     "name": "stdout",
     "output_type": "stream",
     "text": [
      "We can apply some Bayes Theorem here\n"
     ]
    }
   ],
   "source": [
    "print('We can apply some Bayes Theorem here')"
   ]
  },
  {
   "cell_type": "code",
   "execution_count": 13,
   "id": "57dc8e99",
   "metadata": {},
   "outputs": [
    {
     "data": {
      "text/plain": [
       "73"
      ]
     },
     "execution_count": 13,
     "metadata": {},
     "output_type": "execute_result"
    }
   ],
   "source": [
    "# Probability of having an accident, regardless of the gender\n",
    "involvement = accidents[accidents['Involved in Traffic Accident?'] == 'Yes']['Involved in Traffic Accident?'].count()\n",
    "involvement"
   ]
  },
  {
   "cell_type": "code",
   "execution_count": 14,
   "id": "a21383b8",
   "metadata": {},
   "outputs": [
    {
     "data": {
      "text/plain": [
       "0.7087378640776699"
      ]
     },
     "execution_count": 14,
     "metadata": {},
     "output_type": "execute_result"
    }
   ],
   "source": [
    "73/103"
   ]
  },
  {
   "cell_type": "markdown",
   "id": "47460bc6",
   "metadata": {},
   "source": [
    " ### Probability of being a man/woman and having an accident - Naive Bayes Theorem"
   ]
  },
  {
   "cell_type": "code",
   "execution_count": 15,
   "id": "13295066",
   "metadata": {},
   "outputs": [],
   "source": [
    "pr = dict()\n",
    "pr[\"Woman\"] = 0.53\n",
    "pr[\"Man\"] = 0.47\n",
    "pr[\"Having an Accident\"] = 0.71\n",
    "pr[\"Accident | Woman\"] = 0.75\n",
    "pr[\"Accident | Man\"] = 0.66"
   ]
  },
  {
   "cell_type": "code",
   "execution_count": 16,
   "id": "4d2bf23c",
   "metadata": {},
   "outputs": [
    {
     "name": "stdout",
     "output_type": "stream",
     "text": [
      "Bayes Theorem: The probability of having an accident being a man is: P(Man|Accident) = (P(Man)*P(Accident|Man))/(P(Accident))\n"
     ]
    }
   ],
   "source": [
    "print('Bayes Theorem: The probability of having an accident being a man is: P(Man|Accident) = (P(Man)*P(Accident|Man))/(P(Accident))')"
   ]
  },
  {
   "cell_type": "code",
   "execution_count": 17,
   "id": "503753da",
   "metadata": {},
   "outputs": [
    {
     "data": {
      "text/plain": [
       "0.4369014084507042"
      ]
     },
     "execution_count": 17,
     "metadata": {},
     "output_type": "execute_result"
    }
   ],
   "source": [
    "Accident_Man = (pr['Man']*pr['Accident | Man'])/(pr['Having an Accident'])\n",
    "Accident_Man"
   ]
  },
  {
   "cell_type": "code",
   "execution_count": 18,
   "id": "43c0cbd0",
   "metadata": {},
   "outputs": [
    {
     "data": {
      "text/plain": [
       "0.5598591549295775"
      ]
     },
     "execution_count": 18,
     "metadata": {},
     "output_type": "execute_result"
    }
   ],
   "source": [
    "Accident_Woman = (pr['Woman']*pr['Accident | Woman'])/(pr['Having an Accident'])\n",
    "Accident_Woman"
   ]
  },
  {
   "cell_type": "code",
   "execution_count": 19,
   "id": "69a4e321",
   "metadata": {},
   "outputs": [
    {
     "name": "stdout",
     "output_type": "stream",
     "text": [
      "So, from the sample, the conditional probability of having an accident when being a man is 0.43 (43%), and when being a woman is 0.55 (55%), which is significantly higher\n"
     ]
    }
   ],
   "source": [
    "print('So, from the sample, the conditional probability of having an accident when being a man is 0.43 (43%), and when being a woman is 0.55 (55%), which is significantly higher')"
   ]
  },
  {
   "cell_type": "markdown",
   "id": "644fc066",
   "metadata": {},
   "source": [
    "### Probability of suffering injuries in an accident with a certain level of cylinder capacity"
   ]
  },
  {
   "cell_type": "code",
   "execution_count": 20,
   "id": "f5d6d889",
   "metadata": {},
   "outputs": [
    {
     "name": "stdout",
     "output_type": "stream",
     "text": [
      "First, some previous calculus\n"
     ]
    }
   ],
   "source": [
    "print('First, some previous calculus')"
   ]
  },
  {
   "cell_type": "code",
   "execution_count": 21,
   "id": "3eb4f0fe",
   "metadata": {},
   "outputs": [
    {
     "data": {
      "text/plain": [
       "31"
      ]
     },
     "execution_count": 21,
     "metadata": {},
     "output_type": "execute_result"
    }
   ],
   "source": [
    "# Lets see the number of people who had an accident and, sadly, there were injured\n",
    "(accidents[accidents['Injured people'] == 'Yes']['Injured people'].count())"
   ]
  },
  {
   "cell_type": "code",
   "execution_count": 22,
   "id": "9fbf8115",
   "metadata": {},
   "outputs": [
    {
     "data": {
      "text/plain": [
       "0.4246575342465753"
      ]
     },
     "execution_count": 22,
     "metadata": {},
     "output_type": "execute_result"
    }
   ],
   "source": [
    "# From people who had an accident, how much there were injured?\n",
    "31/73"
   ]
  },
  {
   "cell_type": "code",
   "execution_count": 23,
   "id": "f25614cf",
   "metadata": {},
   "outputs": [
    {
     "name": "stdout",
     "output_type": "stream",
     "text": [
      "So, from the 73 people involved in a traffic accident, 31 were injured, which is a proportion of a 42%\n"
     ]
    }
   ],
   "source": [
    "# Proportion of people injured (for future uses)\n",
    "print('So, from the 73 people involved in a traffic accident, 31 were injured, which is a proportion of a 42%')"
   ]
  },
  {
   "cell_type": "code",
   "execution_count": 24,
   "id": "02fbe04f",
   "metadata": {},
   "outputs": [
    {
     "data": {
      "text/plain": [
       "53"
      ]
     },
     "execution_count": 24,
     "metadata": {},
     "output_type": "execute_result"
    }
   ],
   "source": [
    "# Probability of drive a car with a cylinder higher than 2500 cc\n",
    "cylinder = accidents[accidents['Displacement (cc)'] < 2000]['Displacement (cc)'].count()\n",
    "cylinder"
   ]
  },
  {
   "cell_type": "code",
   "execution_count": 25,
   "id": "7a3e7955",
   "metadata": {},
   "outputs": [
    {
     "data": {
      "text/plain": [
       "0.726027397260274"
      ]
     },
     "execution_count": 25,
     "metadata": {},
     "output_type": "execute_result"
    }
   ],
   "source": [
    "# From all the cars available and involved in an accident, which ones had a low cilinder?\n",
    "53/73"
   ]
  },
  {
   "cell_type": "code",
   "execution_count": 26,
   "id": "96c0990c",
   "metadata": {},
   "outputs": [
    {
     "data": {
      "text/plain": [
       "18"
      ]
     },
     "execution_count": 26,
     "metadata": {},
     "output_type": "execute_result"
    }
   ],
   "source": [
    "# Probability of having injured people and a cylinder lower than 2000 cc\n",
    "injured_cylinder = (accidents[(accidents['Injured people'] == 'Yes') & (accidents['Displacement (cc)'] < 2000.0)]['Injured people'].count())\n",
    "injured_cylinder"
   ]
  },
  {
   "cell_type": "code",
   "execution_count": 27,
   "id": "d5aa96bb",
   "metadata": {},
   "outputs": [
    {
     "data": {
      "text/plain": [
       "0.5806451612903226"
      ]
     },
     "execution_count": 27,
     "metadata": {},
     "output_type": "execute_result"
    }
   ],
   "source": [
    "# Probability of being injured with a low cylinder  \n",
    "18/31"
   ]
  },
  {
   "cell_type": "code",
   "execution_count": 28,
   "id": "73d1aed1",
   "metadata": {},
   "outputs": [],
   "source": [
    "pr = dict()\n",
    "pr[\"Injured\"] = 0.42\n",
    "pr[\"Cylinder < 2500 cc\"] = 0.73\n",
    "pr[\"Injured | Cylinder < 2500 cc\"] = 0.58\n",
    "pr[\"Injured | Cylinder > 2500 cc\"] = 0.42"
   ]
  },
  {
   "cell_type": "code",
   "execution_count": 29,
   "id": "f1156125",
   "metadata": {},
   "outputs": [
    {
     "data": {
      "text/plain": [
       "0.3336986301369863"
      ]
     },
     "execution_count": 29,
     "metadata": {},
     "output_type": "execute_result"
    }
   ],
   "source": [
    "# Same procedure, applying Naive Bayes Theorem, the Probability of having an accident with a cylinder lower than 2000, the probability of suffering an accident with injured people is:\n",
    "lowcylinder_injured = (pr['Injured']*pr[\"Injured | Cylinder < 2500 cc\"])/(pr[\"Cylinder < 2500 cc\"])\n",
    "lowcylinder_injured"
   ]
  },
  {
   "cell_type": "code",
   "execution_count": 30,
   "id": "c590cc95",
   "metadata": {},
   "outputs": [
    {
     "name": "stdout",
     "output_type": "stream",
     "text": [
      "There is a 33% of Probability to suffer an accident with injured people when the cylinder is lower than 2500 cc\n"
     ]
    }
   ],
   "source": [
    "print('There is a 33% of Probability to suffer an accident with injured people when the cylinder is lower than 2500 cc')"
   ]
  },
  {
   "cell_type": "markdown",
   "id": "aec95db9",
   "metadata": {},
   "source": [
    "### Probability of suffering an accident due to speeding for people older than 54 years"
   ]
  },
  {
   "cell_type": "code",
   "execution_count": 31,
   "id": "3b3afe52",
   "metadata": {},
   "outputs": [
    {
     "data": {
      "text/plain": [
       "11"
      ]
     },
     "execution_count": 31,
     "metadata": {},
     "output_type": "execute_result"
    }
   ],
   "source": [
    "# From all my sample, how many are 54 years old\n",
    "accidents[accidents['Age Range'] == 'More than 54'][\"Age Range\"].count()"
   ]
  },
  {
   "cell_type": "code",
   "execution_count": 32,
   "id": "c724cd24",
   "metadata": {},
   "outputs": [
    {
     "data": {
      "text/plain": [
       "0.10679611650485436"
      ]
     },
     "execution_count": 32,
     "metadata": {},
     "output_type": "execute_result"
    }
   ],
   "source": [
    "# So, from all my sample (103), 11 are 54 years old\n",
    "11/103"
   ]
  },
  {
   "cell_type": "code",
   "execution_count": 33,
   "id": "863959bd",
   "metadata": {},
   "outputs": [
    {
     "data": {
      "text/plain": [
       "0.1506849315068493"
      ]
     },
     "execution_count": 33,
     "metadata": {},
     "output_type": "execute_result"
    }
   ],
   "source": [
    "# Out of all who suffered a traffic accident, how many are 54 years old? Lets remind that only 73 people suffered an accident\n",
    "11/73"
   ]
  },
  {
   "cell_type": "code",
   "execution_count": 34,
   "id": "d10c9828",
   "metadata": {},
   "outputs": [
    {
     "data": {
      "text/plain": [
       "14"
      ]
     },
     "execution_count": 34,
     "metadata": {},
     "output_type": "execute_result"
    }
   ],
   "source": [
    "# Out of all the accidents, which were caused by speeding?\n",
    "accidents[accidents['Human factor'] == 'Speeding']['Human factor'].count()"
   ]
  },
  {
   "cell_type": "code",
   "execution_count": 35,
   "id": "8c4ee226",
   "metadata": {},
   "outputs": [
    {
     "data": {
      "text/plain": [
       "0.1917808219178082"
      ]
     },
     "execution_count": 35,
     "metadata": {},
     "output_type": "execute_result"
    }
   ],
   "source": [
    "14/73"
   ]
  },
  {
   "cell_type": "code",
   "execution_count": 36,
   "id": "de1c886c",
   "metadata": {},
   "outputs": [
    {
     "data": {
      "text/plain": [
       "2"
      ]
     },
     "execution_count": 36,
     "metadata": {},
     "output_type": "execute_result"
    }
   ],
   "source": [
    "human_54 = (accidents[(accidents['Age Range'] == 'More than 54') & (accidents['Human factor'] == 'Speeding')]['Age Range'].count())\n",
    "human_54"
   ]
  },
  {
   "cell_type": "code",
   "execution_count": 37,
   "id": "fd6e56a9",
   "metadata": {},
   "outputs": [
    {
     "data": {
      "text/plain": [
       "0.14285714285714285"
      ]
     },
     "execution_count": 37,
     "metadata": {},
     "output_type": "execute_result"
    }
   ],
   "source": [
    "# So, from all the accidents caused by Human Factor, how many were 54 years old or more?\n",
    "2/14"
   ]
  },
  {
   "cell_type": "code",
   "execution_count": 38,
   "id": "8243c031",
   "metadata": {},
   "outputs": [],
   "source": [
    "pr = dict()\n",
    "pr[\"Speeding\"] = 0.19\n",
    "pr[\"54 years old\"] = 0.11\n",
    "pr[\"54 years old | Speeding\"] = 0.14"
   ]
  },
  {
   "cell_type": "code",
   "execution_count": 39,
   "id": "963ff19a",
   "metadata": {},
   "outputs": [
    {
     "data": {
      "text/plain": [
       "0.08105263157894738"
      ]
     },
     "execution_count": 39,
     "metadata": {},
     "output_type": "execute_result"
    }
   ],
   "source": [
    "# Same procedure, applying Naive Bayes Theorem, the Probability of having an accident with a cylinder lower than 2000, the probability of suffering an accident with injured people is:\n",
    "older_speeding = (pr['54 years old']*pr[\"54 years old | Speeding\"])/(pr[\"Speeding\"])\n",
    "older_speeding"
   ]
  },
  {
   "cell_type": "code",
   "execution_count": 40,
   "id": "cef149f8",
   "metadata": {},
   "outputs": [
    {
     "name": "stdout",
     "output_type": "stream",
     "text": [
      "Not really an interesting result, it just shows that the probability of suffering an accident due to speed when being older than 54 y/o is very low, maybe they are more prudent\n"
     ]
    }
   ],
   "source": [
    "print('Not really an interesting result, it just shows that the probability of suffering an accident due to speed when being older than 54 y/o is very low, maybe they are more prudent')"
   ]
  },
  {
   "cell_type": "markdown",
   "id": "e5817ccf",
   "metadata": {},
   "source": [
    "### Probability for young people of suffering an accident due to distraction"
   ]
  },
  {
   "cell_type": "code",
   "execution_count": 41,
   "id": "1a2b3365",
   "metadata": {},
   "outputs": [
    {
     "data": {
      "text/plain": [
       "58"
      ]
     },
     "execution_count": 41,
     "metadata": {},
     "output_type": "execute_result"
    }
   ],
   "source": [
    "# From all my sample, how many are 54 years old\n",
    "accidents[accidents['Age Range'] == '18 - 24'][\"Age Range\"].count()"
   ]
  },
  {
   "cell_type": "code",
   "execution_count": 42,
   "id": "10d2d484",
   "metadata": {},
   "outputs": [
    {
     "data": {
      "text/plain": [
       "0.7945205479452054"
      ]
     },
     "execution_count": 42,
     "metadata": {},
     "output_type": "execute_result"
    }
   ],
   "source": [
    "# So from the 73 people who suffered an accident, 58 were between 18-24 years old\n",
    "# It doesnt mean that just young people suffer accidents since we are talking about SAMPLES\n",
    "58/73"
   ]
  },
  {
   "cell_type": "code",
   "execution_count": 43,
   "id": "6d70ceca",
   "metadata": {},
   "outputs": [
    {
     "data": {
      "text/plain": [
       "41"
      ]
     },
     "execution_count": 43,
     "metadata": {},
     "output_type": "execute_result"
    }
   ],
   "source": [
    "# Now, lets compute accidents due to distraction\n",
    "accidents[accidents['Human factor'] == 'Distraction']['Human factor'].count()"
   ]
  },
  {
   "cell_type": "code",
   "execution_count": 44,
   "id": "a3f604dd",
   "metadata": {},
   "outputs": [
    {
     "data": {
      "text/plain": [
       "0.5616438356164384"
      ]
     },
     "execution_count": 44,
     "metadata": {},
     "output_type": "execute_result"
    }
   ],
   "source": [
    "41/73"
   ]
  },
  {
   "cell_type": "code",
   "execution_count": 45,
   "id": "46cd91d9",
   "metadata": {},
   "outputs": [
    {
     "data": {
      "text/plain": [
       "23"
      ]
     },
     "execution_count": 45,
     "metadata": {},
     "output_type": "execute_result"
    }
   ],
   "source": [
    "# Now, young people that suffer accidents due to distraction\n",
    "human_young = (accidents[(accidents['Age Range'] == '18 - 24') & (accidents['Human factor'] == 'Distraction')]['Age Range'].count())\n",
    "human_young"
   ]
  },
  {
   "cell_type": "code",
   "execution_count": 46,
   "id": "c19e93b1",
   "metadata": {},
   "outputs": [
    {
     "data": {
      "text/plain": [
       "0.3013698630136986"
      ]
     },
     "execution_count": 46,
     "metadata": {},
     "output_type": "execute_result"
    }
   ],
   "source": [
    "22/73"
   ]
  },
  {
   "cell_type": "code",
   "execution_count": 47,
   "id": "09fcd0a0",
   "metadata": {},
   "outputs": [],
   "source": [
    "pr = dict()\n",
    "pr[\"Distraction\"] = 0.56\n",
    "pr[\"Young Age\"] = 0.8\n",
    "pr[\"Young Age | Distraction\"] = 0.30"
   ]
  },
  {
   "cell_type": "code",
   "execution_count": 48,
   "id": "54523f79",
   "metadata": {},
   "outputs": [
    {
     "data": {
      "text/plain": [
       "0.4285714285714285"
      ]
     },
     "execution_count": 48,
     "metadata": {},
     "output_type": "execute_result"
    }
   ],
   "source": [
    "older_human = (pr['Young Age']*pr[\"Young Age | Distraction\"])/(pr[\"Distraction\"])\n",
    "older_human"
   ]
  },
  {
   "cell_type": "code",
   "execution_count": 49,
   "id": "b194a80e",
   "metadata": {},
   "outputs": [
    {
     "name": "stdout",
     "output_type": "stream",
     "text": [
      "So, according to the sample, the probability of suffering a car accident with an age range from 18-24 years old due to distraction is a 43%\n"
     ]
    }
   ],
   "source": [
    "print('So, according to the sample, the probability of suffering a car accident with an age range from 18-24 years old due to distraction is a 43%')"
   ]
  },
  {
   "cell_type": "markdown",
   "id": "bd09b7ed",
   "metadata": {},
   "source": [
    "### Probability of drive for more than two following hours and have an accident"
   ]
  },
  {
   "cell_type": "code",
   "execution_count": 50,
   "id": "6b6b5b23",
   "metadata": {},
   "outputs": [
    {
     "data": {
      "text/plain": [
       "0.7087378640776699"
      ]
     },
     "execution_count": 50,
     "metadata": {},
     "output_type": "execute_result"
    }
   ],
   "source": [
    "# From my sample, we already know that 73 people out of 103 have had an accident. Proportionally, that is:\n",
    "73/103"
   ]
  },
  {
   "cell_type": "code",
   "execution_count": 51,
   "id": "460b7172",
   "metadata": {},
   "outputs": [
    {
     "data": {
      "text/plain": [
       "5"
      ]
     },
     "execution_count": 51,
     "metadata": {},
     "output_type": "execute_result"
    }
   ],
   "source": [
    "# Now, which proportion of people has been driving for more than two hours?\n",
    "accidents[accidents['Continuous time driving'] == 'More than two hours'][\"Continuous time driving\"].count()"
   ]
  },
  {
   "cell_type": "code",
   "execution_count": 52,
   "id": "057091e6",
   "metadata": {},
   "outputs": [
    {
     "data": {
      "text/plain": [
       "0.0684931506849315"
      ]
     },
     "execution_count": 52,
     "metadata": {},
     "output_type": "execute_result"
    }
   ],
   "source": [
    "5/73"
   ]
  },
  {
   "cell_type": "code",
   "execution_count": 53,
   "id": "f2180204",
   "metadata": {},
   "outputs": [
    {
     "data": {
      "text/plain": [
       "5"
      ]
     },
     "execution_count": 53,
     "metadata": {},
     "output_type": "execute_result"
    }
   ],
   "source": [
    "more_2hours = (accidents[(accidents['Involved in Traffic Accident?'] == 'Yes') & (accidents['Continuous time driving'] == 'More than two hours')]['Involved in Traffic Accident?'].count())\n",
    "more_2hours"
   ]
  },
  {
   "cell_type": "code",
   "execution_count": 54,
   "id": "19209c0b",
   "metadata": {},
   "outputs": [
    {
     "name": "stdout",
     "output_type": "stream",
     "text": [
      "Every person who drove more than two hours was involved in a traffic accident... wow*\n"
     ]
    }
   ],
   "source": [
    "print('Every person who drove more than two hours was involved in a traffic accident... wow*')"
   ]
  },
  {
   "cell_type": "markdown",
   "id": "9a6ecd9f",
   "metadata": {},
   "source": [
    "### Probability of having a car accident due to speed with a high cylindric level"
   ]
  },
  {
   "cell_type": "code",
   "execution_count": 55,
   "id": "9a70fbbf",
   "metadata": {},
   "outputs": [],
   "source": [
    "# From previous exercises, we already know that the probability of having a car accident due to speediding is 0.19\n",
    "pr = dict()\n",
    "pr[\"Speeding\"] = 0.19"
   ]
  },
  {
   "cell_type": "code",
   "execution_count": 56,
   "id": "26fb15f3",
   "metadata": {},
   "outputs": [
    {
     "data": {
      "text/plain": [
       "0.27"
      ]
     },
     "execution_count": 56,
     "metadata": {},
     "output_type": "execute_result"
    }
   ],
   "source": [
    "# We also know the probability of having a low cylinder level (below 2500 cc), so we can compute the opposite for a high level\n",
    "pr[\"Cylinder < 2500 cc\"] = 0.73\n",
    "pr[\"Cylinder > 2500 cc\"] = 1-0.73\n",
    "pr[\"Cylinder > 2500 cc\"]"
   ]
  },
  {
   "cell_type": "code",
   "execution_count": 57,
   "id": "66e514f0",
   "metadata": {},
   "outputs": [
    {
     "data": {
      "text/plain": [
       "2"
      ]
     },
     "execution_count": 57,
     "metadata": {},
     "output_type": "execute_result"
    }
   ],
   "source": [
    "# Now, conditional probability;\n",
    "cy_speed = (accidents[(accidents['Human factor'] == 'Speeding') & (accidents['Displacement (cc)'] >= 2500)]['Human factor'].count())\n",
    "cy_speed"
   ]
  },
  {
   "cell_type": "code",
   "execution_count": 58,
   "id": "4fcfd9a2",
   "metadata": {},
   "outputs": [
    {
     "name": "stdout",
     "output_type": "stream",
     "text": [
      "From the 14 accidents caused by speeding, 2 involved cars with a high CC (every car with CC > 2500 had accident due to speed*\n"
     ]
    },
    {
     "data": {
      "text/plain": [
       "1.0"
      ]
     },
     "execution_count": 58,
     "metadata": {},
     "output_type": "execute_result"
    }
   ],
   "source": [
    "print('From the 14 accidents caused by speeding, 2 involved cars with a high CC (every car with CC > 2500 had accident due to speed*')\n",
    "5/5"
   ]
  },
  {
   "cell_type": "markdown",
   "id": "48a9c41d",
   "metadata": {},
   "source": [
    "### Probability of having the driving license for less than two years and suffering a difficulty post pandemic"
   ]
  },
  {
   "cell_type": "code",
   "execution_count": 59,
   "id": "29599485",
   "metadata": {
    "scrolled": true
   },
   "outputs": [
    {
     "data": {
      "text/html": [
       "<div>\n",
       "<style scoped>\n",
       "    .dataframe tbody tr th:only-of-type {\n",
       "        vertical-align: middle;\n",
       "    }\n",
       "\n",
       "    .dataframe tbody tr th {\n",
       "        vertical-align: top;\n",
       "    }\n",
       "\n",
       "    .dataframe thead th {\n",
       "        text-align: right;\n",
       "    }\n",
       "</style>\n",
       "<table border=\"1\" class=\"dataframe\">\n",
       "  <thead>\n",
       "    <tr style=\"text-align: right;\">\n",
       "      <th></th>\n",
       "      <th>Timestamp</th>\n",
       "      <th>Gender</th>\n",
       "      <th>Age Range</th>\n",
       "      <th>Regular Driver</th>\n",
       "      <th>Driving License Length</th>\n",
       "      <th>Weekly Driving Frequency</th>\n",
       "      <th>Long Distance Driving</th>\n",
       "      <th>Stop in Long Distance Trips</th>\n",
       "      <th>Involved in Traffic Accident?</th>\n",
       "      <th>Date of the accident</th>\n",
       "      <th>...</th>\n",
       "      <th>Human factor</th>\n",
       "      <th>Type of vehicle</th>\n",
       "      <th>Vehicle brand</th>\n",
       "      <th>Vehicle model</th>\n",
       "      <th>Year of Registration</th>\n",
       "      <th>Level of protection of the vehicle</th>\n",
       "      <th>Continuous time driving</th>\n",
       "      <th>Difficulty driving post pandemic</th>\n",
       "      <th>Injured people</th>\n",
       "      <th>Displacement (cc)</th>\n",
       "    </tr>\n",
       "  </thead>\n",
       "  <tbody>\n",
       "    <tr>\n",
       "      <th>0</th>\n",
       "      <td>1</td>\n",
       "      <td>Woman</td>\n",
       "      <td>18 - 24</td>\n",
       "      <td>Yes</td>\n",
       "      <td>5 to 10 years</td>\n",
       "      <td>Every day of the week</td>\n",
       "      <td>Once a month</td>\n",
       "      <td>Every 2 hours</td>\n",
       "      <td>Yes</td>\n",
       "      <td>2019-12-01 00:00:00</td>\n",
       "      <td>...</td>\n",
       "      <td>NaN</td>\n",
       "      <td>Car</td>\n",
       "      <td>Nissan</td>\n",
       "      <td>Nissan micra</td>\n",
       "      <td>2008.0</td>\n",
       "      <td>8.0</td>\n",
       "      <td>Less than 30 minutes</td>\n",
       "      <td>Yes</td>\n",
       "      <td>No</td>\n",
       "      <td>1000.0</td>\n",
       "    </tr>\n",
       "    <tr>\n",
       "      <th>1</th>\n",
       "      <td>2</td>\n",
       "      <td>Woman</td>\n",
       "      <td>18 - 24</td>\n",
       "      <td>No</td>\n",
       "      <td>2 to 5 years</td>\n",
       "      <td>No day of the week</td>\n",
       "      <td>I do not make long trips</td>\n",
       "      <td>I do not make long journeys</td>\n",
       "      <td>Yes</td>\n",
       "      <td>2019-06-01 00:00:00</td>\n",
       "      <td>...</td>\n",
       "      <td>Distraction</td>\n",
       "      <td>Car</td>\n",
       "      <td>Mercedes</td>\n",
       "      <td>Mercedes A180</td>\n",
       "      <td>2008.0</td>\n",
       "      <td>10.0</td>\n",
       "      <td>Less than 30 minutes</td>\n",
       "      <td>Yes</td>\n",
       "      <td>No</td>\n",
       "      <td>1991.0</td>\n",
       "    </tr>\n",
       "    <tr>\n",
       "      <th>2</th>\n",
       "      <td>3</td>\n",
       "      <td>Woman</td>\n",
       "      <td>18 - 24</td>\n",
       "      <td>No</td>\n",
       "      <td>Less than 2 years</td>\n",
       "      <td>Once a week</td>\n",
       "      <td>I do not make long trips</td>\n",
       "      <td>I do not make long journeys</td>\n",
       "      <td>Yes</td>\n",
       "      <td>2020-06-01 00:00:00</td>\n",
       "      <td>...</td>\n",
       "      <td>Speeding</td>\n",
       "      <td>Car</td>\n",
       "      <td>Renault</td>\n",
       "      <td>Renault Clio</td>\n",
       "      <td>2013.0</td>\n",
       "      <td>10.0</td>\n",
       "      <td>Less than 30 minutes</td>\n",
       "      <td>Yes</td>\n",
       "      <td>No</td>\n",
       "      <td>1461.0</td>\n",
       "    </tr>\n",
       "    <tr>\n",
       "      <th>3</th>\n",
       "      <td>4</td>\n",
       "      <td>Man</td>\n",
       "      <td>More than 54</td>\n",
       "      <td>Yes</td>\n",
       "      <td>More than 20 years</td>\n",
       "      <td>Every day of the week</td>\n",
       "      <td>Once every 2-3 months</td>\n",
       "      <td>After more than 2 hours</td>\n",
       "      <td>Yes</td>\n",
       "      <td>1975-03-01 00:00:00</td>\n",
       "      <td>...</td>\n",
       "      <td>Others</td>\n",
       "      <td>Car</td>\n",
       "      <td>BMW</td>\n",
       "      <td>BMW X3</td>\n",
       "      <td>2005.0</td>\n",
       "      <td>10.0</td>\n",
       "      <td>Less than 30 minutes</td>\n",
       "      <td>No</td>\n",
       "      <td>No</td>\n",
       "      <td>1991.0</td>\n",
       "    </tr>\n",
       "    <tr>\n",
       "      <th>4</th>\n",
       "      <td>5</td>\n",
       "      <td>Woman</td>\n",
       "      <td>18 - 24</td>\n",
       "      <td>Yes</td>\n",
       "      <td>5 to 10 years</td>\n",
       "      <td>Between 3 and 5 days a week</td>\n",
       "      <td>Once a month</td>\n",
       "      <td>After more than 2 hours</td>\n",
       "      <td>Yes</td>\n",
       "      <td>2018-05-01 00:00:00</td>\n",
       "      <td>...</td>\n",
       "      <td>NaN</td>\n",
       "      <td>Car</td>\n",
       "      <td>Zip</td>\n",
       "      <td>Zip</td>\n",
       "      <td>2014.0</td>\n",
       "      <td>1.0</td>\n",
       "      <td>Less than 30 minutes</td>\n",
       "      <td>Yes</td>\n",
       "      <td>Yes</td>\n",
       "      <td>NaN</td>\n",
       "    </tr>\n",
       "  </tbody>\n",
       "</table>\n",
       "<p>5 rows × 26 columns</p>\n",
       "</div>"
      ],
      "text/plain": [
       "   Timestamp Gender     Age Range Regular Driver Driving License Length  \\\n",
       "0          1  Woman       18 - 24            Yes          5 to 10 years   \n",
       "1          2  Woman       18 - 24             No           2 to 5 years   \n",
       "2          3  Woman       18 - 24             No      Less than 2 years   \n",
       "3          4    Man  More than 54            Yes     More than 20 years   \n",
       "4          5  Woman       18 - 24            Yes          5 to 10 years   \n",
       "\n",
       "      Weekly Driving Frequency     Long Distance Driving  \\\n",
       "0        Every day of the week              Once a month   \n",
       "1           No day of the week  I do not make long trips   \n",
       "2                  Once a week  I do not make long trips   \n",
       "3        Every day of the week     Once every 2-3 months   \n",
       "4  Between 3 and 5 days a week              Once a month   \n",
       "\n",
       "   Stop in Long Distance Trips Involved in Traffic Accident?  \\\n",
       "0                Every 2 hours                           Yes   \n",
       "1  I do not make long journeys                           Yes   \n",
       "2  I do not make long journeys                           Yes   \n",
       "3      After more than 2 hours                           Yes   \n",
       "4      After more than 2 hours                           Yes   \n",
       "\n",
       "  Date of the accident  ... Human factor  Type of vehicle  Vehicle brand  \\\n",
       "0  2019-12-01 00:00:00  ...          NaN              Car         Nissan   \n",
       "1  2019-06-01 00:00:00  ...  Distraction              Car       Mercedes   \n",
       "2  2020-06-01 00:00:00  ...     Speeding              Car        Renault   \n",
       "3  1975-03-01 00:00:00  ...       Others              Car            BMW   \n",
       "4  2018-05-01 00:00:00  ...          NaN              Car            Zip   \n",
       "\n",
       "   Vehicle model Year of Registration Level of protection of the vehicle  \\\n",
       "0   Nissan micra               2008.0                                8.0   \n",
       "1  Mercedes A180               2008.0                               10.0   \n",
       "2   Renault Clio               2013.0                               10.0   \n",
       "3         BMW X3               2005.0                               10.0   \n",
       "4            Zip               2014.0                                1.0   \n",
       "\n",
       "  Continuous time driving Difficulty driving post pandemic Injured people  \\\n",
       "0    Less than 30 minutes                              Yes             No   \n",
       "1    Less than 30 minutes                              Yes             No   \n",
       "2    Less than 30 minutes                              Yes             No   \n",
       "3    Less than 30 minutes                               No             No   \n",
       "4    Less than 30 minutes                              Yes            Yes   \n",
       "\n",
       "  Displacement (cc)  \n",
       "0            1000.0  \n",
       "1            1991.0  \n",
       "2            1461.0  \n",
       "3            1991.0  \n",
       "4               NaN  \n",
       "\n",
       "[5 rows x 26 columns]"
      ]
     },
     "execution_count": 59,
     "metadata": {},
     "output_type": "execute_result"
    }
   ],
   "source": [
    "accidents.head()"
   ]
  },
  {
   "cell_type": "code",
   "execution_count": 60,
   "id": "bb1972d4",
   "metadata": {},
   "outputs": [
    {
     "data": {
      "text/plain": [
       "44"
      ]
     },
     "execution_count": 60,
     "metadata": {},
     "output_type": "execute_result"
    }
   ],
   "source": [
    "accidents[accidents['Driving License Length'] == '2 to 5 years']['Driving License Length'].count()"
   ]
  },
  {
   "cell_type": "code",
   "execution_count": 61,
   "id": "a644248e",
   "metadata": {},
   "outputs": [
    {
     "data": {
      "text/plain": [
       "0.42718446601941745"
      ]
     },
     "execution_count": 61,
     "metadata": {},
     "output_type": "execute_result"
    }
   ],
   "source": [
    "# Out of 103 people, 44 have had the driving license from 2 to 5 years (during pandemic period)\n",
    "44/103"
   ]
  },
  {
   "cell_type": "code",
   "execution_count": 62,
   "id": "a652e236",
   "metadata": {},
   "outputs": [
    {
     "data": {
      "text/plain": [
       "59"
      ]
     },
     "execution_count": 62,
     "metadata": {},
     "output_type": "execute_result"
    }
   ],
   "source": [
    "# Difficulty experienced post pandemic?\n",
    "accidents[accidents['Difficulty driving post pandemic'] == 'Yes']['Difficulty driving post pandemic'].count()"
   ]
  },
  {
   "cell_type": "code",
   "execution_count": 63,
   "id": "55580598",
   "metadata": {},
   "outputs": [
    {
     "data": {
      "text/plain": [
       "0.5728155339805825"
      ]
     },
     "execution_count": 63,
     "metadata": {},
     "output_type": "execute_result"
    }
   ],
   "source": [
    "# From 103 people, 59 experienced difficulties driving when pandemic ended (more than the half of the sample)\n",
    "59/103"
   ]
  },
  {
   "cell_type": "code",
   "execution_count": 64,
   "id": "e3e2a213",
   "metadata": {},
   "outputs": [
    {
     "data": {
      "text/plain": [
       "33"
      ]
     },
     "execution_count": 64,
     "metadata": {},
     "output_type": "execute_result"
    }
   ],
   "source": [
    "pandemic = (accidents[(accidents['Driving License Length'] == '2 to 5 years') & (accidents['Difficulty driving post pandemic'] == 'Yes')]['Driving License Length'].count())\n",
    "pandemic"
   ]
  },
  {
   "cell_type": "code",
   "execution_count": 65,
   "id": "8dc358c0",
   "metadata": {},
   "outputs": [
    {
     "data": {
      "text/plain": [
       "0.75"
      ]
     },
     "execution_count": 65,
     "metadata": {},
     "output_type": "execute_result"
    }
   ],
   "source": [
    "# 33 people out of the 44 with a driving licence from 2-5 years have experienced difficulty driving post pandemic\n",
    "33/44"
   ]
  },
  {
   "cell_type": "code",
   "execution_count": 66,
   "id": "7cb5749d",
   "metadata": {},
   "outputs": [],
   "source": [
    "pr = dict()\n",
    "pr[\"Driving License 2-5 years\"] = 0.43\n",
    "pr[\"Difficulty Pandemic\"] = 0.57\n",
    "pr[\"Driving License 2-5 years | Difficulty Pandemic\"] = 0.75"
   ]
  },
  {
   "cell_type": "code",
   "execution_count": 67,
   "id": "18fd2b30",
   "metadata": {
    "scrolled": true
   },
   "outputs": [
    {
     "data": {
      "text/plain": [
       "0.5657894736842106"
      ]
     },
     "execution_count": 67,
     "metadata": {},
     "output_type": "execute_result"
    }
   ],
   "source": [
    "young_pand = (pr[\"Driving License 2-5 years\"]*pr[\"Driving License 2-5 years | Difficulty Pandemic\"])/(pr[\"Difficulty Pandemic\"])\n",
    "young_pand"
   ]
  },
  {
   "cell_type": "code",
   "execution_count": 68,
   "id": "90a7f4e0",
   "metadata": {},
   "outputs": [
    {
     "name": "stdout",
     "output_type": "stream",
     "text": [
      "There is a 57% of probability to have a driving license for less than 5 years and have experienced difficulty driving post pandemic, according to our sample\n"
     ]
    }
   ],
   "source": [
    "print('There is a 57% of probability to have a driving license for less than 5 years and have experienced difficulty driving post pandemic, according to our sample')"
   ]
  },
  {
   "cell_type": "code",
   "execution_count": 69,
   "id": "e5dbc0a8",
   "metadata": {},
   "outputs": [],
   "source": [
    "# Correlación entre nivel de protección y cilindrada\n",
    "# correlacion entre cilindrada alta y accidente\n",
    "# Correlación entre marca y accidente"
   ]
  },
  {
   "cell_type": "code",
   "execution_count": 70,
   "id": "42d6a9f8",
   "metadata": {},
   "outputs": [],
   "source": [
    "# No utilizar tanta probabilidad, si no más CI e Hypothesis testing ya que al fin y al cabo estamos hablando de una muestra\n",
    "# Por ejemplo, que posibilidad hay que, siendo mujer, sufra un accidente. No se con exactitud al tratarse de una muestra,\n",
    "# pero si que lo puedo estimar"
   ]
  },
  {
   "cell_type": "markdown",
   "id": "402bb87b",
   "metadata": {},
   "source": [
    "### Hypothesis Testing"
   ]
  },
  {
   "cell_type": "code",
   "execution_count": 71,
   "id": "05113a4e",
   "metadata": {},
   "outputs": [],
   "source": [
    "import numpy as np \n",
    "from scipy.stats import t\n",
    "import pandas as pd\n",
    "import scipy.stats as st\n",
    "import matplotlib.pyplot as plt\n",
    "import seaborn as sns"
   ]
  },
  {
   "cell_type": "code",
   "execution_count": 72,
   "id": "434a3998",
   "metadata": {},
   "outputs": [],
   "source": [
    "#!pip install --upgrade scipy"
   ]
  },
  {
   "cell_type": "code",
   "execution_count": 73,
   "id": "2c275e44",
   "metadata": {},
   "outputs": [],
   "source": [
    "# Significance: Probability of rejecting the null if it happens to be true -- most damaging error\n",
    "# We set the significance depending on how damaging can it be to get it wrong\n",
    "# alpha = 5%"
   ]
  },
  {
   "cell_type": "markdown",
   "id": "f23837f0",
   "metadata": {},
   "source": [
    "#### More than half of the sample are involved in a traffic accident have high CC"
   ]
  },
  {
   "cell_type": "code",
   "execution_count": 84,
   "id": "afe9ddaa",
   "metadata": {
    "scrolled": true
   },
   "outputs": [
    {
     "data": {
      "text/plain": [
       "0      1000.0\n",
       "1      1991.0\n",
       "2      1461.0\n",
       "3      1991.0\n",
       "7      1368.0\n",
       "11     1999.0\n",
       "12     1498.0\n",
       "15     1905.0\n",
       "17     1905.0\n",
       "19     1149.0\n",
       "20     1560.0\n",
       "22     1991.0\n",
       "24     1991.0\n",
       "26     1400.0\n",
       "28     1149.0\n",
       "32     1422.0\n",
       "34     1400.0\n",
       "40     1390.0\n",
       "41     1200.0\n",
       "42     1991.0\n",
       "44     1598.0\n",
       "46     1200.0\n",
       "49     1242.0\n",
       "52     1910.0\n",
       "53     1560.0\n",
       "54     1498.0\n",
       "56     1364.0\n",
       "57     1600.0\n",
       "59     1600.0\n",
       "60     1560.0\n",
       "61     1600.0\n",
       "62     1198.0\n",
       "63     1800.0\n",
       "64     1796.0\n",
       "65     1400.0\n",
       "67     1698.0\n",
       "68     1995.0\n",
       "70      998.0\n",
       "71     1598.0\n",
       "75     1984.0\n",
       "76     1595.0\n",
       "77     1600.0\n",
       "78     1197.0\n",
       "79     1595.0\n",
       "80     1998.0\n",
       "82     1200.0\n",
       "86     1120.0\n",
       "88     1600.0\n",
       "94     1390.0\n",
       "97     1998.0\n",
       "98     1900.0\n",
       "99     1587.0\n",
       "102    1386.0\n",
       "Name: Displacement (cc), dtype: float64"
      ]
     },
     "execution_count": 84,
     "metadata": {},
     "output_type": "execute_result"
    }
   ],
   "source": [
    "# h0: The people involved in traffic accidents were driving a car with high CC equal 2500\n",
    "# h1: The people involved in traffic accidents were NOT driving a car with high CC different 2500\n",
    "accidents.dropna()\n",
    "involvement = accidents[(accidents['Involved in Traffic Accident?'] == 'Yes') & (accidents['Displacement (cc)'] < 2000.0)]['Displacement (cc)']\n",
    "involvement"
   ]
  },
  {
   "cell_type": "code",
   "execution_count": 88,
   "id": "f0e93743",
   "metadata": {},
   "outputs": [
    {
     "data": {
      "text/plain": [
       "Ttest_1sampResult(statistic=-10.469560077080121, pvalue=2.0807279329807654e-14)"
      ]
     },
     "execution_count": 88,
     "metadata": {},
     "output_type": "execute_result"
    }
   ],
   "source": [
    "st.ttest_1samp(involvement, 2000)"
   ]
  },
  {
   "cell_type": "code",
   "execution_count": 89,
   "id": "b3f93b8d",
   "metadata": {},
   "outputs": [
    {
     "data": {
      "text/plain": [
       "Ttest_1sampResult(statistic=-10.469560077080121, pvalue=0.9999999999999896)"
      ]
     },
     "execution_count": 89,
     "metadata": {},
     "output_type": "execute_result"
    }
   ],
   "source": [
    "st.ttest_1samp(involvement, 2000, alternative='greater')"
   ]
  },
  {
   "cell_type": "code",
   "execution_count": 90,
   "id": "0aededaa",
   "metadata": {},
   "outputs": [
    {
     "data": {
      "text/plain": [
       "Ttest_1sampResult(statistic=-10.469560077080121, pvalue=1.0403639664903827e-14)"
      ]
     },
     "execution_count": 90,
     "metadata": {},
     "output_type": "execute_result"
    }
   ],
   "source": [
    "st.ttest_1samp(involvement, 2000, alternative='less')"
   ]
  },
  {
   "cell_type": "code",
   "execution_count": 78,
   "id": "97d976e3",
   "metadata": {},
   "outputs": [
    {
     "name": "stdout",
     "output_type": "stream",
     "text": [
      "P is not low, so it can't go! Under a significance level of a 5%, we can not reject H0, which states that people who drive cars with a high cylindric level (higher than 2500), are more likely to be involved in traffic accidents\n"
     ]
    }
   ],
   "source": [
    "print(\"P is not low, so it can't go! Under a significance level of a 5%, we can not reject H0, which states that people who drive cars with a high cylindric level (higher than 2500), are more likely to be involved in traffic accidents\")"
   ]
  },
  {
   "cell_type": "markdown",
   "id": "026b6b71",
   "metadata": {},
   "source": [
    "#### Out of the people involved in traffic accident, more than the half are man"
   ]
  },
  {
   "cell_type": "code",
   "execution_count": 79,
   "id": "684a84aa",
   "metadata": {},
   "outputs": [
    {
     "data": {
      "text/plain": [
       "Ttest_1sampResult(statistic=37.35263738606945, pvalue=9.245220918304062e-43)"
      ]
     },
     "execution_count": 79,
     "metadata": {},
     "output_type": "execute_result"
    }
   ],
   "source": [
    "st.ttest_1samp(involvement, 50)"
   ]
  }
 ],
 "metadata": {
  "kernelspec": {
   "display_name": "Python 3 (ipykernel)",
   "language": "python",
   "name": "python3"
  },
  "language_info": {
   "codemirror_mode": {
    "name": "ipython",
    "version": 3
   },
   "file_extension": ".py",
   "mimetype": "text/x-python",
   "name": "python",
   "nbconvert_exporter": "python",
   "pygments_lexer": "ipython3",
   "version": "3.9.12"
  }
 },
 "nbformat": 4,
 "nbformat_minor": 5
}
