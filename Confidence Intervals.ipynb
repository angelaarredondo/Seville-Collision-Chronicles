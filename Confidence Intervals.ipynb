{
 "cells": [
  {
   "cell_type": "code",
   "execution_count": 20,
   "id": "c2106d8f",
   "metadata": {},
   "outputs": [],
   "source": [
    "import pandas as pd\n",
    "import numpy as np\n",
    "import scipy.stats as st"
   ]
  },
  {
   "cell_type": "code",
   "execution_count": 21,
   "id": "26aea7e3",
   "metadata": {},
   "outputs": [
    {
     "data": {
      "text/html": [
       "<div>\n",
       "<style scoped>\n",
       "    .dataframe tbody tr th:only-of-type {\n",
       "        vertical-align: middle;\n",
       "    }\n",
       "\n",
       "    .dataframe tbody tr th {\n",
       "        vertical-align: top;\n",
       "    }\n",
       "\n",
       "    .dataframe thead th {\n",
       "        text-align: right;\n",
       "    }\n",
       "</style>\n",
       "<table border=\"1\" class=\"dataframe\">\n",
       "  <thead>\n",
       "    <tr style=\"text-align: right;\">\n",
       "      <th></th>\n",
       "      <th>Timestamp</th>\n",
       "      <th>Gender</th>\n",
       "      <th>Age Range</th>\n",
       "      <th>Regular Driver</th>\n",
       "      <th>Driving License Length</th>\n",
       "      <th>Weekly Driving Frequency</th>\n",
       "      <th>Long Distance Driving</th>\n",
       "      <th>Stop in Long Distance Trips</th>\n",
       "      <th>Involved in Traffic Accident?</th>\n",
       "      <th>Date of the accident</th>\n",
       "      <th>...</th>\n",
       "      <th>Type of vehicle</th>\n",
       "      <th>Vehicle brand</th>\n",
       "      <th>Vehicle brand.1</th>\n",
       "      <th>Vehicle model</th>\n",
       "      <th>Year of Registration</th>\n",
       "      <th>Level of protection of the vehicle</th>\n",
       "      <th>Continuous time driving</th>\n",
       "      <th>Difficulty driving post pandemic</th>\n",
       "      <th>Injured people</th>\n",
       "      <th>Displacement (cc)</th>\n",
       "    </tr>\n",
       "  </thead>\n",
       "  <tbody>\n",
       "    <tr>\n",
       "      <th>0</th>\n",
       "      <td>1</td>\n",
       "      <td>1</td>\n",
       "      <td>1</td>\n",
       "      <td>1</td>\n",
       "      <td>3</td>\n",
       "      <td>Every day of the week</td>\n",
       "      <td>Once a month</td>\n",
       "      <td>Every 2 hours</td>\n",
       "      <td>1</td>\n",
       "      <td>2019-12-01 00:00:00</td>\n",
       "      <td>...</td>\n",
       "      <td>1.0</td>\n",
       "      <td>Nissan</td>\n",
       "      <td>1.0</td>\n",
       "      <td>Nissan micra</td>\n",
       "      <td>2008.0</td>\n",
       "      <td>8.0</td>\n",
       "      <td>1.0</td>\n",
       "      <td>1</td>\n",
       "      <td>2.0</td>\n",
       "      <td>1000.0</td>\n",
       "    </tr>\n",
       "    <tr>\n",
       "      <th>1</th>\n",
       "      <td>2</td>\n",
       "      <td>1</td>\n",
       "      <td>1</td>\n",
       "      <td>2</td>\n",
       "      <td>2</td>\n",
       "      <td>2 day of the week</td>\n",
       "      <td>I do 2t make long trips</td>\n",
       "      <td>I do 2t make long journeys</td>\n",
       "      <td>1</td>\n",
       "      <td>2019-06-01 00:00:00</td>\n",
       "      <td>...</td>\n",
       "      <td>1.0</td>\n",
       "      <td>Mercedes</td>\n",
       "      <td>2.0</td>\n",
       "      <td>Mercedes A180</td>\n",
       "      <td>2008.0</td>\n",
       "      <td>10.0</td>\n",
       "      <td>1.0</td>\n",
       "      <td>1</td>\n",
       "      <td>2.0</td>\n",
       "      <td>1991.0</td>\n",
       "    </tr>\n",
       "    <tr>\n",
       "      <th>2</th>\n",
       "      <td>3</td>\n",
       "      <td>1</td>\n",
       "      <td>1</td>\n",
       "      <td>2</td>\n",
       "      <td>1</td>\n",
       "      <td>Once a week</td>\n",
       "      <td>I do 2t make long trips</td>\n",
       "      <td>I do 2t make long journeys</td>\n",
       "      <td>1</td>\n",
       "      <td>2020-06-01 00:00:00</td>\n",
       "      <td>...</td>\n",
       "      <td>1.0</td>\n",
       "      <td>Renault</td>\n",
       "      <td>3.0</td>\n",
       "      <td>Renault Clio</td>\n",
       "      <td>2013.0</td>\n",
       "      <td>10.0</td>\n",
       "      <td>1.0</td>\n",
       "      <td>1</td>\n",
       "      <td>2.0</td>\n",
       "      <td>1461.0</td>\n",
       "    </tr>\n",
       "    <tr>\n",
       "      <th>3</th>\n",
       "      <td>4</td>\n",
       "      <td>2</td>\n",
       "      <td>5</td>\n",
       "      <td>1</td>\n",
       "      <td>6</td>\n",
       "      <td>Every day of the week</td>\n",
       "      <td>Once every 2-3 months</td>\n",
       "      <td>After more than 2 hours</td>\n",
       "      <td>1</td>\n",
       "      <td>1975-03-01 00:00:00</td>\n",
       "      <td>...</td>\n",
       "      <td>1.0</td>\n",
       "      <td>BMW</td>\n",
       "      <td>4.0</td>\n",
       "      <td>BMW X3</td>\n",
       "      <td>2005.0</td>\n",
       "      <td>10.0</td>\n",
       "      <td>1.0</td>\n",
       "      <td>2</td>\n",
       "      <td>2.0</td>\n",
       "      <td>1991.0</td>\n",
       "    </tr>\n",
       "    <tr>\n",
       "      <th>4</th>\n",
       "      <td>5</td>\n",
       "      <td>1</td>\n",
       "      <td>1</td>\n",
       "      <td>1</td>\n",
       "      <td>3</td>\n",
       "      <td>Between 3 and 5 days a week</td>\n",
       "      <td>Once a month</td>\n",
       "      <td>After more than 2 hours</td>\n",
       "      <td>1</td>\n",
       "      <td>2018-05-01 00:00:00</td>\n",
       "      <td>...</td>\n",
       "      <td>1.0</td>\n",
       "      <td>Zip</td>\n",
       "      <td>5.0</td>\n",
       "      <td>Zip</td>\n",
       "      <td>2014.0</td>\n",
       "      <td>1.0</td>\n",
       "      <td>1.0</td>\n",
       "      <td>1</td>\n",
       "      <td>1.0</td>\n",
       "      <td>NaN</td>\n",
       "    </tr>\n",
       "  </tbody>\n",
       "</table>\n",
       "<p>5 rows × 27 columns</p>\n",
       "</div>"
      ],
      "text/plain": [
       "   Timestamp  Gender  Age Range  Regular Driver  Driving License Length  \\\n",
       "0          1       1          1               1                       3   \n",
       "1          2       1          1               2                       2   \n",
       "2          3       1          1               2                       1   \n",
       "3          4       2          5               1                       6   \n",
       "4          5       1          1               1                       3   \n",
       "\n",
       "      Weekly Driving Frequency    Long Distance Driving  \\\n",
       "0        Every day of the week             Once a month   \n",
       "1            2 day of the week  I do 2t make long trips   \n",
       "2                  Once a week  I do 2t make long trips   \n",
       "3        Every day of the week    Once every 2-3 months   \n",
       "4  Between 3 and 5 days a week             Once a month   \n",
       "\n",
       "  Stop in Long Distance Trips  Involved in Traffic Accident?  \\\n",
       "0               Every 2 hours                              1   \n",
       "1  I do 2t make long journeys                              1   \n",
       "2  I do 2t make long journeys                              1   \n",
       "3     After more than 2 hours                              1   \n",
       "4     After more than 2 hours                              1   \n",
       "\n",
       "  Date of the accident  ... Type of vehicle  Vehicle brand  Vehicle brand.1  \\\n",
       "0  2019-12-01 00:00:00  ...             1.0         Nissan              1.0   \n",
       "1  2019-06-01 00:00:00  ...             1.0       Mercedes              2.0   \n",
       "2  2020-06-01 00:00:00  ...             1.0        Renault              3.0   \n",
       "3  1975-03-01 00:00:00  ...             1.0            BMW              4.0   \n",
       "4  2018-05-01 00:00:00  ...             1.0            Zip              5.0   \n",
       "\n",
       "   Vehicle model Year of Registration  Level of protection of the vehicle  \\\n",
       "0   Nissan micra               2008.0                                 8.0   \n",
       "1  Mercedes A180               2008.0                                10.0   \n",
       "2   Renault Clio               2013.0                                10.0   \n",
       "3         BMW X3               2005.0                                10.0   \n",
       "4            Zip               2014.0                                 1.0   \n",
       "\n",
       "   Continuous time driving  Difficulty driving post pandemic Injured people  \\\n",
       "0                      1.0                                 1            2.0   \n",
       "1                      1.0                                 1            2.0   \n",
       "2                      1.0                                 1            2.0   \n",
       "3                      1.0                                 2            2.0   \n",
       "4                      1.0                                 1            1.0   \n",
       "\n",
       "   Displacement (cc)  \n",
       "0             1000.0  \n",
       "1             1991.0  \n",
       "2             1461.0  \n",
       "3             1991.0  \n",
       "4                NaN  \n",
       "\n",
       "[5 rows x 27 columns]"
      ]
     },
     "execution_count": 21,
     "metadata": {},
     "output_type": "execute_result"
    }
   ],
   "source": [
    "accidents = pd.read_excel('Confidence Intervals.xlsx')\n",
    "accidents.head()"
   ]
  },
  {
   "cell_type": "code",
   "execution_count": 22,
   "id": "4a3e9901",
   "metadata": {},
   "outputs": [
    {
     "data": {
      "text/plain": [
       "(103, 27)"
      ]
     },
     "execution_count": 22,
     "metadata": {},
     "output_type": "execute_result"
    }
   ],
   "source": [
    "accidents.shape"
   ]
  },
  {
   "cell_type": "markdown",
   "id": "e540eab0",
   "metadata": {},
   "source": [
    "### Simple interval of confidence 95% for mean involvement in traffic accidents "
   ]
  },
  {
   "cell_type": "code",
   "execution_count": 23,
   "id": "6a93c9c1",
   "metadata": {},
   "outputs": [],
   "source": [
    "# What do I need?\n",
    "# 1 the mean of the sample\n",
    "# 2 number of observations\n",
    "# 3 std of the original population "
   ]
  },
  {
   "cell_type": "code",
   "execution_count": 24,
   "id": "18b95528",
   "metadata": {},
   "outputs": [
    {
     "data": {
      "text/plain": [
       "1.2912621359223302"
      ]
     },
     "execution_count": 24,
     "metadata": {},
     "output_type": "execute_result"
    }
   ],
   "source": [
    "# 1. Compute the mean\n",
    "mean = accidents['Involved in Traffic Accident?'].mean()\n",
    "mean"
   ]
  },
  {
   "cell_type": "code",
   "execution_count": 25,
   "id": "33381408",
   "metadata": {},
   "outputs": [],
   "source": [
    "# 2. Number of observations\n",
    "n = 103"
   ]
  },
  {
   "cell_type": "code",
   "execution_count": 26,
   "id": "0bbabcbd",
   "metadata": {},
   "outputs": [
    {
     "data": {
      "text/plain": [
       "0.4565657816394265"
      ]
     },
     "execution_count": 26,
     "metadata": {},
     "output_type": "execute_result"
    }
   ],
   "source": [
    "# 3. Compute the standard deviation\n",
    "std = accidents['Involved in Traffic Accident?'].std(ddof=1)\n",
    "std"
   ]
  },
  {
   "cell_type": "code",
   "execution_count": 27,
   "id": "f2102093",
   "metadata": {},
   "outputs": [
    {
     "data": {
      "text/plain": [
       "1.98349525849594"
      ]
     },
     "execution_count": 27,
     "metadata": {},
     "output_type": "execute_result"
    }
   ],
   "source": [
    "# Find the statistic (t student)\n",
    "c = 0.95\n",
    "st.t.ppf(1-((1-c)/2),103-1)"
   ]
  },
  {
   "cell_type": "code",
   "execution_count": 28,
   "id": "4d6479ba",
   "metadata": {},
   "outputs": [
    {
     "name": "stdout",
     "output_type": "stream",
     "text": [
      "Interval for Involvment in Traffic Accident\n"
     ]
    },
    {
     "data": {
      "text/plain": [
       "(1.1999564265333404, 1.38256784531132)"
      ]
     },
     "execution_count": 28,
     "metadata": {},
     "output_type": "execute_result"
    }
   ],
   "source": [
    "print('Interval for Involvment in Traffic Accident')\n",
    "st.t.interval(0.955,103-1,loc=mean,scale=std/np.sqrt(103))"
   ]
  },
  {
   "cell_type": "code",
   "execution_count": 29,
   "id": "3455dfc8",
   "metadata": {},
   "outputs": [],
   "source": [
    "# The CI for average people involved in a traffic accident i (1.2, 1.4), which is closer to 1 (there is more people which had a traaffic accident than not)"
   ]
  },
  {
   "cell_type": "markdown",
   "id": "4d33f6bf",
   "metadata": {},
   "source": [
    "### Simple interval of confidence 95% for driving license length"
   ]
  },
  {
   "cell_type": "code",
   "execution_count": 30,
   "id": "182dc481",
   "metadata": {},
   "outputs": [
    {
     "data": {
      "text/plain": [
       "1.4660194174757282"
      ]
     },
     "execution_count": 30,
     "metadata": {},
     "output_type": "execute_result"
    }
   ],
   "source": [
    "mean3 = accidents['Difficulty driving post pandemic'].mean()\n",
    "mean3"
   ]
  },
  {
   "cell_type": "code",
   "execution_count": 31,
   "id": "2c258827",
   "metadata": {},
   "outputs": [],
   "source": [
    "n3 = 73"
   ]
  },
  {
   "cell_type": "code",
   "execution_count": 32,
   "id": "bbc0b471",
   "metadata": {},
   "outputs": [
    {
     "data": {
      "text/plain": [
       "0.5742093281726112"
      ]
     },
     "execution_count": 32,
     "metadata": {},
     "output_type": "execute_result"
    }
   ],
   "source": [
    "std3 = accidents['Difficulty driving post pandemic'].std(ddof=1)\n",
    "std3"
   ]
  },
  {
   "cell_type": "code",
   "execution_count": 33,
   "id": "4fce0cb2",
   "metadata": {},
   "outputs": [
    {
     "name": "stdout",
     "output_type": "stream",
     "text": [
      "Difficulty driving post pandemic\n"
     ]
    },
    {
     "data": {
      "text/plain": [
       "(1.3289060718349013, 1.6031327631165553)"
      ]
     },
     "execution_count": 33,
     "metadata": {},
     "output_type": "execute_result"
    }
   ],
   "source": [
    "print('Difficulty driving post pandemic')\n",
    "st.t.interval(0.955,73-1,loc=mean3,scale=std3/np.sqrt(73))"
   ]
  },
  {
   "cell_type": "code",
   "execution_count": 34,
   "id": "8cd070a2",
   "metadata": {},
   "outputs": [],
   "source": [
    "# The CI for average gender is (3.27, 3.45), which is closer to 1 (there is more people which had a traffic accident than not)"
   ]
  },
  {
   "cell_type": "markdown",
   "id": "1bc23628",
   "metadata": {},
   "source": [
    "### Simple interval of confidence 95% for mean CC of cars involved in a traffic accident"
   ]
  },
  {
   "cell_type": "code",
   "execution_count": 35,
   "id": "4d9ebb3a",
   "metadata": {},
   "outputs": [
    {
     "data": {
      "text/plain": [
       "1696.1290322580646"
      ]
     },
     "execution_count": 35,
     "metadata": {},
     "output_type": "execute_result"
    }
   ],
   "source": [
    "mean4 = accidents['Displacement (cc)'].mean()\n",
    "mean4"
   ]
  },
  {
   "cell_type": "code",
   "execution_count": 36,
   "id": "daa852ad",
   "metadata": {},
   "outputs": [],
   "source": [
    "n4 = 73"
   ]
  },
  {
   "cell_type": "code",
   "execution_count": 37,
   "id": "566526f2",
   "metadata": {},
   "outputs": [
    {
     "data": {
      "text/plain": [
       "508.84683140591045"
      ]
     },
     "execution_count": 37,
     "metadata": {},
     "output_type": "execute_result"
    }
   ],
   "source": [
    "std4 = accidents['Displacement (cc)'].std(ddof=1)\n",
    "std4"
   ]
  },
  {
   "cell_type": "code",
   "execution_count": 38,
   "id": "99c2cd97",
   "metadata": {},
   "outputs": [
    {
     "name": "stdout",
     "output_type": "stream",
     "text": [
      "Average CC of cars involved in an accident\n"
     ]
    },
    {
     "data": {
      "text/plain": [
       "(1574.6233581951992, 1817.63470632093)"
      ]
     },
     "execution_count": 38,
     "metadata": {},
     "output_type": "execute_result"
    }
   ],
   "source": [
    "print('Average CC of cars involved in an accident')\n",
    "st.t.interval(0.955,73-1,loc=mean4,scale=std4/np.sqrt(73))"
   ]
  },
  {
   "cell_type": "code",
   "execution_count": null,
   "id": "adc6370e",
   "metadata": {},
   "outputs": [],
   "source": []
  }
 ],
 "metadata": {
  "kernelspec": {
   "display_name": "Python 3 (ipykernel)",
   "language": "python",
   "name": "python3"
  },
  "language_info": {
   "codemirror_mode": {
    "name": "ipython",
    "version": 3
   },
   "file_extension": ".py",
   "mimetype": "text/x-python",
   "name": "python",
   "nbconvert_exporter": "python",
   "pygments_lexer": "ipython3",
   "version": "3.9.12"
  }
 },
 "nbformat": 4,
 "nbformat_minor": 5
}
