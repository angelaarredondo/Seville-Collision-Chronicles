{
 "cells": [
  {
   "cell_type": "code",
   "execution_count": 1,
   "id": "49f47136",
   "metadata": {},
   "outputs": [],
   "source": [
    "import pandas as pd\n",
    "import numpy as np\n",
    "import scipy\n",
    "from scipy import stats as st\n",
    "import matplotlib.pyplot as plt"
   ]
  },
  {
   "cell_type": "code",
   "execution_count": 2,
   "id": "06331c4b",
   "metadata": {
    "scrolled": true
   },
   "outputs": [
    {
     "data": {
      "text/html": [
       "<div>\n",
       "<style scoped>\n",
       "    .dataframe tbody tr th:only-of-type {\n",
       "        vertical-align: middle;\n",
       "    }\n",
       "\n",
       "    .dataframe tbody tr th {\n",
       "        vertical-align: top;\n",
       "    }\n",
       "\n",
       "    .dataframe thead th {\n",
       "        text-align: right;\n",
       "    }\n",
       "</style>\n",
       "<table border=\"1\" class=\"dataframe\">\n",
       "  <thead>\n",
       "    <tr style=\"text-align: right;\">\n",
       "      <th></th>\n",
       "      <th>Timestamp</th>\n",
       "      <th>Gender</th>\n",
       "      <th>Age Range</th>\n",
       "      <th>Regular Driver</th>\n",
       "      <th>Driving License Length</th>\n",
       "      <th>Weekly Driving Frequency</th>\n",
       "      <th>Long Distance Driving</th>\n",
       "      <th>Stop in Long Distance Trips</th>\n",
       "      <th>Involved in Traffic Accident?</th>\n",
       "      <th>Date of the accident</th>\n",
       "      <th>...</th>\n",
       "      <th>Human factor</th>\n",
       "      <th>Type of vehicle</th>\n",
       "      <th>Vehicle brand</th>\n",
       "      <th>Vehicle model</th>\n",
       "      <th>Year of Registration</th>\n",
       "      <th>Level of protection of the vehicle</th>\n",
       "      <th>Continuous time driving</th>\n",
       "      <th>Difficulty driving post pandemic</th>\n",
       "      <th>Injured people</th>\n",
       "      <th>Displacement (cc)</th>\n",
       "    </tr>\n",
       "  </thead>\n",
       "  <tbody>\n",
       "    <tr>\n",
       "      <th>0</th>\n",
       "      <td>1</td>\n",
       "      <td>Woman</td>\n",
       "      <td>18 - 24</td>\n",
       "      <td>Yes</td>\n",
       "      <td>5 to 10 years</td>\n",
       "      <td>Every day of the week</td>\n",
       "      <td>Once a month</td>\n",
       "      <td>Every 2 hours</td>\n",
       "      <td>Yes</td>\n",
       "      <td>2019-12-01 00:00:00</td>\n",
       "      <td>...</td>\n",
       "      <td>NaN</td>\n",
       "      <td>Car</td>\n",
       "      <td>Nissan</td>\n",
       "      <td>Nissan micra</td>\n",
       "      <td>2008.0</td>\n",
       "      <td>8.0</td>\n",
       "      <td>Less than 30 minutes</td>\n",
       "      <td>Yes</td>\n",
       "      <td>No</td>\n",
       "      <td>1000.0</td>\n",
       "    </tr>\n",
       "    <tr>\n",
       "      <th>1</th>\n",
       "      <td>2</td>\n",
       "      <td>Woman</td>\n",
       "      <td>18 - 24</td>\n",
       "      <td>No</td>\n",
       "      <td>2 to 5 years</td>\n",
       "      <td>No day of the week</td>\n",
       "      <td>I do not make long trips</td>\n",
       "      <td>I do not make long journeys</td>\n",
       "      <td>Yes</td>\n",
       "      <td>2019-06-01 00:00:00</td>\n",
       "      <td>...</td>\n",
       "      <td>Distraction</td>\n",
       "      <td>Car</td>\n",
       "      <td>Mercedes</td>\n",
       "      <td>Mercedes A180</td>\n",
       "      <td>2008.0</td>\n",
       "      <td>10.0</td>\n",
       "      <td>Less than 30 minutes</td>\n",
       "      <td>Yes</td>\n",
       "      <td>No</td>\n",
       "      <td>1991.0</td>\n",
       "    </tr>\n",
       "    <tr>\n",
       "      <th>2</th>\n",
       "      <td>3</td>\n",
       "      <td>Woman</td>\n",
       "      <td>18 - 24</td>\n",
       "      <td>No</td>\n",
       "      <td>Less than 2 years</td>\n",
       "      <td>Once a week</td>\n",
       "      <td>I do not make long trips</td>\n",
       "      <td>I do not make long journeys</td>\n",
       "      <td>Yes</td>\n",
       "      <td>2020-06-01 00:00:00</td>\n",
       "      <td>...</td>\n",
       "      <td>Speeding</td>\n",
       "      <td>Car</td>\n",
       "      <td>Renault</td>\n",
       "      <td>Renault Clio</td>\n",
       "      <td>2013.0</td>\n",
       "      <td>10.0</td>\n",
       "      <td>Less than 30 minutes</td>\n",
       "      <td>Yes</td>\n",
       "      <td>No</td>\n",
       "      <td>1461.0</td>\n",
       "    </tr>\n",
       "    <tr>\n",
       "      <th>3</th>\n",
       "      <td>4</td>\n",
       "      <td>Man</td>\n",
       "      <td>More than 54</td>\n",
       "      <td>Yes</td>\n",
       "      <td>More than 20 years</td>\n",
       "      <td>Every day of the week</td>\n",
       "      <td>Once every 2-3 months</td>\n",
       "      <td>After more than 2 hours</td>\n",
       "      <td>Yes</td>\n",
       "      <td>1975-03-01 00:00:00</td>\n",
       "      <td>...</td>\n",
       "      <td>Others</td>\n",
       "      <td>Car</td>\n",
       "      <td>BMW</td>\n",
       "      <td>BMW X3</td>\n",
       "      <td>2005.0</td>\n",
       "      <td>10.0</td>\n",
       "      <td>Less than 30 minutes</td>\n",
       "      <td>No</td>\n",
       "      <td>No</td>\n",
       "      <td>1991.0</td>\n",
       "    </tr>\n",
       "    <tr>\n",
       "      <th>4</th>\n",
       "      <td>5</td>\n",
       "      <td>Woman</td>\n",
       "      <td>18 - 24</td>\n",
       "      <td>Yes</td>\n",
       "      <td>5 to 10 years</td>\n",
       "      <td>Between 3 and 5 days a week</td>\n",
       "      <td>Once a month</td>\n",
       "      <td>After more than 2 hours</td>\n",
       "      <td>Yes</td>\n",
       "      <td>2018-05-01 00:00:00</td>\n",
       "      <td>...</td>\n",
       "      <td>NaN</td>\n",
       "      <td>Car</td>\n",
       "      <td>Zip</td>\n",
       "      <td>Zip</td>\n",
       "      <td>2014.0</td>\n",
       "      <td>1.0</td>\n",
       "      <td>Less than 30 minutes</td>\n",
       "      <td>Yes</td>\n",
       "      <td>Yes</td>\n",
       "      <td>NaN</td>\n",
       "    </tr>\n",
       "  </tbody>\n",
       "</table>\n",
       "<p>5 rows × 26 columns</p>\n",
       "</div>"
      ],
      "text/plain": [
       "   Timestamp Gender     Age Range Regular Driver Driving License Length  \\\n",
       "0          1  Woman       18 - 24            Yes          5 to 10 years   \n",
       "1          2  Woman       18 - 24             No           2 to 5 years   \n",
       "2          3  Woman       18 - 24             No      Less than 2 years   \n",
       "3          4    Man  More than 54            Yes     More than 20 years   \n",
       "4          5  Woman       18 - 24            Yes          5 to 10 years   \n",
       "\n",
       "      Weekly Driving Frequency     Long Distance Driving  \\\n",
       "0        Every day of the week              Once a month   \n",
       "1           No day of the week  I do not make long trips   \n",
       "2                  Once a week  I do not make long trips   \n",
       "3        Every day of the week     Once every 2-3 months   \n",
       "4  Between 3 and 5 days a week              Once a month   \n",
       "\n",
       "   Stop in Long Distance Trips Involved in Traffic Accident?  \\\n",
       "0                Every 2 hours                           Yes   \n",
       "1  I do not make long journeys                           Yes   \n",
       "2  I do not make long journeys                           Yes   \n",
       "3      After more than 2 hours                           Yes   \n",
       "4      After more than 2 hours                           Yes   \n",
       "\n",
       "  Date of the accident  ... Human factor  Type of vehicle  Vehicle brand  \\\n",
       "0  2019-12-01 00:00:00  ...          NaN              Car         Nissan   \n",
       "1  2019-06-01 00:00:00  ...  Distraction              Car       Mercedes   \n",
       "2  2020-06-01 00:00:00  ...     Speeding              Car        Renault   \n",
       "3  1975-03-01 00:00:00  ...       Others              Car            BMW   \n",
       "4  2018-05-01 00:00:00  ...          NaN              Car            Zip   \n",
       "\n",
       "   Vehicle model Year of Registration Level of protection of the vehicle  \\\n",
       "0   Nissan micra               2008.0                                8.0   \n",
       "1  Mercedes A180               2008.0                               10.0   \n",
       "2   Renault Clio               2013.0                               10.0   \n",
       "3         BMW X3               2005.0                               10.0   \n",
       "4            Zip               2014.0                                1.0   \n",
       "\n",
       "  Continuous time driving Difficulty driving post pandemic Injured people  \\\n",
       "0    Less than 30 minutes                              Yes             No   \n",
       "1    Less than 30 minutes                              Yes             No   \n",
       "2    Less than 30 minutes                              Yes             No   \n",
       "3    Less than 30 minutes                               No             No   \n",
       "4    Less than 30 minutes                              Yes            Yes   \n",
       "\n",
       "  Displacement (cc)  \n",
       "0            1000.0  \n",
       "1            1991.0  \n",
       "2            1461.0  \n",
       "3            1991.0  \n",
       "4               NaN  \n",
       "\n",
       "[5 rows x 26 columns]"
      ]
     },
     "execution_count": 2,
     "metadata": {},
     "output_type": "execute_result"
    }
   ],
   "source": [
    "accidents = pd.read_excel('Accidents_csv.xlsx')\n",
    "accidents.head()"
   ]
  },
  {
   "cell_type": "markdown",
   "id": "c62b84b8",
   "metadata": {},
   "source": [
    "### Chi test for age range and involvement"
   ]
  },
  {
   "cell_type": "code",
   "execution_count": 3,
   "id": "98b32155",
   "metadata": {},
   "outputs": [],
   "source": [
    "# So according to Tableau Graphs, we have seen that the group range with highest involved people are from 18-24 years\n",
    "# Lets test if there is a relation between age and involvement or they are independent variables"
   ]
  },
  {
   "cell_type": "code",
   "execution_count": 4,
   "id": "c4b176e4",
   "metadata": {},
   "outputs": [
    {
     "data": {
      "text/plain": [
       "(14.783759875713898,\n",
       " 0.0006162363777905115,\n",
       " 2,\n",
       " array([[12.38834951, 45.61165049],\n",
       "        [ 2.99029126, 11.00970874],\n",
       "        [ 6.62135922, 24.37864078]]))"
      ]
     },
     "execution_count": 4,
     "metadata": {},
     "output_type": "execute_result"
    }
   ],
   "source": [
    "# Contingency tables and independence of effects\n",
    "import scipy.stats as st\n",
    "\n",
    "ages_table=[[20,38],\n",
    "            [2,12],\n",
    "            [0,31]]\n",
    "\n",
    "st.chi2_contingency(np.array(ages_table))\n",
    "#statistic, p-value, degrees of freedom, expected probs if H0 holds"
   ]
  },
  {
   "cell_type": "code",
   "execution_count": 5,
   "id": "66f0cfc1",
   "metadata": {},
   "outputs": [
    {
     "data": {
      "text/plain": [
       "[<matplotlib.lines.Line2D at 0x1a6c9088f10>,\n",
       " <matplotlib.lines.Line2D at 0x1a6c9088f40>]"
      ]
     },
     "execution_count": 5,
     "metadata": {},
     "output_type": "execute_result"
    },
    {
     "data": {
      "image/png": "[encoded data removed]",
      "text/plain": [
       "<Figure size 432x288 with 1 Axes>"
      ]
     },
     "metadata": {
      "needs_background": "light"
     },
     "output_type": "display_data"
    }
   ],
   "source": [
    "from scipy.stats import chi2\n",
    "plt.plot(np.array(ages_table), chi2.pdf(np.array(ages_table), df=4), label='df: 4', color='gold')"
   ]
  },
  {
   "cell_type": "code",
   "execution_count": 6,
   "id": "9f013407",
   "metadata": {},
   "outputs": [],
   "source": [
    "# We can't reject h0, so under a significance level of a 5%, we can conclude that the age range and being involved in a traffic accident are not independent variables\n",
    "# Thus, they are dependent on each other"
   ]
  },
  {
   "cell_type": "code",
   "execution_count": 7,
   "id": "6ac06295",
   "metadata": {},
   "outputs": [
    {
     "name": "stdout",
     "output_type": "stream",
     "text": [
      "For a Chi-square test, a p-value that is less than or equal to my significance level indicates there is sufficient evidence to conclude that the observed distribution is not the same as the expected distribution. It can be concluded that a relationship exists between the categorical variables\n"
     ]
    }
   ],
   "source": [
    "print('For a Chi-square test, a p-value that is less than or equal to my significance level indicates there is sufficient evidence to conclude that the observed distribution is not the same as the expected distribution. It can be concluded that a relationship exists between the categorical variables')"
   ]
  },
  {
   "cell_type": "markdown",
   "id": "c416d65e",
   "metadata": {},
   "source": [
    "### Chi test for gender and involvment"
   ]
  },
  {
   "cell_type": "code",
   "execution_count": 8,
   "id": "bd255fbe",
   "metadata": {},
   "outputs": [
    {
     "data": {
      "text/plain": [
       "(0.43633280579770295,\n",
       " 0.5088977853998882,\n",
       " 1,\n",
       " array([[34.01941748, 38.98058252],\n",
       "        [13.98058252, 16.01941748]]))"
      ]
     },
     "execution_count": 8,
     "metadata": {},
     "output_type": "execute_result"
    }
   ],
   "source": [
    "# Contingency tables and independence of effects\n",
    "import scipy.stats as st\n",
    "\n",
    "ages_table=[[32,41],\n",
    "            [16,14]]\n",
    "\n",
    "st.chi2_contingency(np.array(ages_table))\n",
    "#statistic, p-value, degrees of freedom, expected probs if H0 holds\n",
    "\n",
    "# Reject h0, not interesting, just not a high relationship"
   ]
  },
  {
   "cell_type": "markdown",
   "id": "b65e44ef",
   "metadata": {},
   "source": [
    "### Chi test for gender and injuries"
   ]
  },
  {
   "cell_type": "code",
   "execution_count": 9,
   "id": "2348438a",
   "metadata": {},
   "outputs": [
    {
     "data": {
      "text/plain": [
       "(4.070443802521008,\n",
       " 0.04363980724748926,\n",
       " 1,\n",
       " array([[24.88888889, 15.11111111],\n",
       "        [31.11111111, 18.88888889]]))"
      ]
     },
     "execution_count": 9,
     "metadata": {},
     "output_type": "execute_result"
    }
   ],
   "source": [
    "# Contingency tables and independence of effects\n",
    "import scipy.stats as st\n",
    "\n",
    "ages_table=[[30,10],\n",
    "            [26,24]]\n",
    "\n",
    "st.chi2_contingency(np.array(ages_table))\n",
    "#statistic, p-value, degrees of freedom, expected probs if H0 holds\n",
    "\n",
    "# Reject h0, not interesting, just not a high relationship"
   ]
  },
  {
   "cell_type": "code",
   "execution_count": 10,
   "id": "2e26051b",
   "metadata": {},
   "outputs": [
    {
     "name": "stdout",
     "output_type": "stream",
     "text": [
      "For a Chi-square test, a p-value that is less than or equal to my significance level indicates there is sufficient evidence to conclude that the observed distribution is not the same as the expected distribution. It can be concluded that a relationship exists between the categorical variables\n"
     ]
    }
   ],
   "source": [
    "print('For a Chi-square test, a p-value that is less than or equal to my significance level indicates there is sufficient evidence to conclude that the observed distribution is not the same as the expected distribution. It can be concluded that a relationship exists between the categorical variables')"
   ]
  }
 ],
 "metadata": {
  "kernelspec": {
   "display_name": "Python 3 (ipykernel)",
   "language": "python",
   "name": "python3"
  },
  "language_info": {
   "codemirror_mode": {
    "name": "ipython",
    "version": 3
   },
   "file_extension": ".py",
   "mimetype": "text/x-python",
   "name": "python",
   "nbconvert_exporter": "python",
   "pygments_lexer": "ipython3",
   "version": "3.9.12"
  }
 },
 "nbformat": 4,
 "nbformat_minor": 5
}
